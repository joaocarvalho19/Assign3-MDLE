{
 "cells": [
  {
   "cell_type": "code",
   "execution_count": 134,
   "metadata": {},
   "outputs": [],
   "source": [
    "import networkx as nx\n",
    "import scipy as sp\n",
    "import numpy as np\n",
    "import sys\n",
    "from datetime import datetime\n",
    "import matplotlib.pyplot as plt\n",
    "from sklearn.cluster import KMeans\n",
    "from sklearn.metrics.cluster import adjusted_rand_score\n",
    "from sklearn.metrics import jaccard_score"
   ]
  },
  {
   "cell_type": "code",
   "execution_count": 2,
   "metadata": {},
   "outputs": [],
   "source": [
    "users = [\"0\", \"107\", \"348\", \"414\", \"686\", \"698\", \"1684\", \"1912\", \"3437\", \"3980\"]\n",
    "PATH = 'data/facebook/'"
   ]
  },
  {
   "cell_type": "code",
   "execution_count": 3,
   "metadata": {},
   "outputs": [],
   "source": [
    "'''\n",
    "    Laplacian eigendecomposition process\n",
    "'''\n",
    "def user_process(user):\n",
    "    G = nx.Graph()\n",
    "    \n",
    "    with open(PATH + user +\".circles\") as f:\n",
    "        for line in f:\n",
    "            ls = line.rstrip().split(\"\\t\")\n",
    "            for n in ls[1:]:    \n",
    "                G.add_node(int(n))\n",
    "\n",
    "    with open(PATH + user + \".edges\") as f:\n",
    "        for line in f:\n",
    "            line = line.rstrip()\n",
    "            a, b = line.split(\" \")\n",
    "            G.add_edge(int(a), int(b))\n",
    "    \n",
    "    L = nx.laplacian_matrix(G)  # Returns the Laplacian matrix of graph G.\n",
    "    eigenvalues, eigenvectors = np.linalg.eigh(L.todense())\n",
    "    return eigenvalues, eigenvectors"
   ]
  },
  {
   "cell_type": "code",
   "execution_count": 4,
   "metadata": {},
   "outputs": [],
   "source": [
    "'''\n",
    "    Return the eigen gaps for a user\n",
    "'''\n",
    "def get_eigengap(user_ev):\n",
    "    diffs = []\n",
    "    for ev in range(1, len(user_ev)):\n",
    "        diffs.append(user_ev[ev] - user_ev[ev-1])\n",
    "    return diffs"
   ]
  },
  {
   "cell_type": "code",
   "execution_count": 5,
   "metadata": {},
   "outputs": [],
   "source": [
    "users_eigenvectors = {}\n",
    "users_eigenvalues = {}\n",
    "users_eigengap = {}"
   ]
  },
  {
   "cell_type": "code",
   "execution_count": 6,
   "metadata": {},
   "outputs": [
    {
     "name": "stderr",
     "output_type": "stream",
     "text": [
      "<class 'networkx.utils.decorators.argmap'> compilation 4:4: FutureWarning: laplacian_matrix will return a scipy.sparse array instead of a matrix in Networkx 3.0.\n"
     ]
    }
   ],
   "source": [
    "'''\n",
    "    Laplacian eigendecomposition and eigengap for each user\n",
    "'''\n",
    "for user in users:\n",
    "    users_eigenvalues[user], users_eigenvectors[user] = user_process(user)\n",
    "    users_eigenvalues[user] = sorted(users_eigenvalues[user])\n",
    "    users_eigengap[user] = get_eigengap(users_eigenvalues[user])"
   ]
  },
  {
   "cell_type": "code",
   "execution_count": 42,
   "metadata": {},
   "outputs": [],
   "source": [
    "'''\n",
    "    See the index of First Pick of a user  - users = [\"0\", \"107\", \"348\", \"414\", \"686\", \"698\", \"1684\", \"1912\", \"3437\", \"3980\"] \n",
    "'''\n",
    "user = \"3437\"\n",
    "for i, gap in enumerate(users_eigengap[user][:40]):\n",
    "    '''print(i+1, gap)'''"
   ]
  },
  {
   "cell_type": "markdown",
   "metadata": {},
   "source": [
    "##### User \"0\": Optimal num of Cluster: 14  | User \"107\": Optimal num of Cluster: 2  | User \"348\": Optimal num of Cluster: 4\n",
    "##### User \"414\": Optimal num of Cluster: 8  | User \"686\": Optimal num of Cluster: 3  | User \"698\": Optimal num of Cluster: 7\n",
    "##### User \"1684\": Optimal num of Cluster: 11  | User \"1912\": Optimal num of Cluster: 6  | User \"3437\": Optimal num of Cluster: 2\n",
    "##### User \"3980\": Optimal num of Cluster: 10"
   ]
  },
  {
   "cell_type": "code",
   "execution_count": 53,
   "metadata": {},
   "outputs": [],
   "source": [
    "def cluster_nodes(user, n_vectors, users_on_cluster, users_eigenvectors):\n",
    "    eigenvectors = np.transpose(users_eigenvectors[user])[:n_vectors]\n",
    "    kmeans = KMeans(n_clusters=users_on_cluster)\n",
    "    k_means = kmeans.fit(np.asarray(np.transpose(eigenvectors)))\n",
    "    return k_means"
   ]
  },
  {
   "cell_type": "code",
   "execution_count": 117,
   "metadata": {},
   "outputs": [],
   "source": [
    "def evaluate_similarity(user, resulting_clusters):\n",
    "    score = 0\n",
    "    control = set()\n",
    "    circles = []\n",
    "    with open(PATH + user +\".circles\") as f:\n",
    "        for line in f:\n",
    "            line = line.rstrip().split(\"\\t\")\n",
    "            for n in line[1:]:\n",
    "                if n not in control:\n",
    "                    circles.append(line[0])\n",
    "                    control.add(n)\n",
    "\n",
    "    score = adjusted_rand_score(list(circles), resulting_clusters[:len(circles)])\n",
    "    return score"
   ]
  },
  {
   "cell_type": "markdown",
   "metadata": {},
   "source": [
    "### Evaluate the similarity of the resulting clusters"
   ]
  },
  {
   "cell_type": "code",
   "execution_count": 119,
   "metadata": {},
   "outputs": [],
   "source": [
    "users_on_cluster = {\"0\": 14, \"107\": 2, \"348\": 4, \"414\": 8, \"686\": 3, \"698\": 7, \"1684\": 11, \"1912\": 6, \"3437\": 2, \"3980\": 10}"
   ]
  },
  {
   "cell_type": "code",
   "execution_count": 142,
   "metadata": {},
   "outputs": [
    {
     "name": "stdout",
     "output_type": "stream",
     "text": [
      "{'0': 0.19707871781363231, '107': 0.004910420844326661, '348': -0.015293721980308452, '414': 0.0065681919906997056, '686': 0.0006188686047141599, '698': 0.023402092552852874, '1684': 0.28146483969680974, '1912': 7.353104021431937e-05, '3437': 0.0, '3980': 0.024651877822554413}\n"
     ]
    }
   ],
   "source": [
    "users_score = {}\n",
    "n_vectors = 40 # The first n eigenvectors\n",
    "for user in users:\n",
    "    k_means_model = cluster_nodes(user, n_vectors, users_on_cluster[user], users_eigenvectors)\n",
    "    resulting_clusters = k_means_model.labels_\n",
    "    users_score[user] = evaluate_similarity(user, resulting_clusters)\n",
    "print(users_score)"
   ]
  },
  {
   "cell_type": "markdown",
   "metadata": {},
   "source": [
    "##### Save score results"
   ]
  },
  {
   "cell_type": "code",
   "execution_count": 143,
   "metadata": {},
   "outputs": [],
   "source": [
    "now = datetime.now()\n",
    "# dd/mm/YY H:M:S\n",
    "dt_string = now.strftime(\"%d-%m-%Y_%H:%M:%S\")\n",
    "f = open(\"results/scores_no_weight_\"+dt_string+\".txt\", \"w\")\n",
    "f.write(str(users_score))\n",
    "f.close()"
   ]
  },
  {
   "cell_type": "markdown",
   "metadata": {},
   "source": [
    "#  Weighted graph"
   ]
  },
  {
   "cell_type": "code",
   "execution_count": 122,
   "metadata": {},
   "outputs": [],
   "source": [
    "def get_user_features(users):\n",
    "    features = {}\n",
    "    for user in users:\n",
    "        features[user] = {}\n",
    "        with open(PATH + user + \".feat\", \"r\") as f:\n",
    "            for line in f:\n",
    "                ls = line.rstrip().split(\" \")\n",
    "                features[user][ls[0]] = np.asarray(ls[1:], dtype=np.intc)\n",
    "    return features"
   ]
  },
  {
   "cell_type": "code",
   "execution_count": 123,
   "metadata": {},
   "outputs": [],
   "source": [
    "def user_process_weight(user, users_features):\n",
    "    G = nx.Graph()\n",
    "            \n",
    "    with open(PATH + user +\".circles\") as f:\n",
    "        for line in f:\n",
    "            ls = line.rstrip().split(\"\\t\")\n",
    "            for n in ls[1:]:    \n",
    "                G.add_node(int(n))\n",
    "\n",
    "    with open(PATH + user + \".edges\") as f:\n",
    "        for line in f:\n",
    "            line = line.rstrip()\n",
    "            a, b = line.split(\" \")\n",
    "            G.add_edge(int(a), int(b), weight=jaccard_score(users_features[user][a], users_features[user][b]))\n",
    "    \n",
    "    L = nx.laplacian_matrix(G)  # Returns the Laplacian matrix of graph G.\n",
    "    eigenvalues, eigenvectors = np.linalg.eigh(L.todense())\n",
    "    return eigenvalues, eigenvectors"
   ]
  },
  {
   "cell_type": "code",
   "execution_count": 124,
   "metadata": {},
   "outputs": [],
   "source": [
    "users_features = get_user_features(users)"
   ]
  },
  {
   "cell_type": "code",
   "execution_count": 125,
   "metadata": {},
   "outputs": [],
   "source": [
    "users_eigenvectors_wei = {}\n",
    "users_eigenvalues_wei = {}\n",
    "users_eigengap_wei = {}"
   ]
  },
  {
   "cell_type": "code",
   "execution_count": 126,
   "metadata": {},
   "outputs": [
    {
     "name": "stderr",
     "output_type": "stream",
     "text": [
      "<class 'networkx.utils.decorators.argmap'> compilation 4:4: FutureWarning: laplacian_matrix will return a scipy.sparse array instead of a matrix in Networkx 3.0.\n",
      "<class 'networkx.utils.decorators.argmap'> compilation 4:4: FutureWarning: laplacian_matrix will return a scipy.sparse array instead of a matrix in Networkx 3.0.\n",
      "<class 'networkx.utils.decorators.argmap'> compilation 4:4: FutureWarning: laplacian_matrix will return a scipy.sparse array instead of a matrix in Networkx 3.0.\n",
      "<class 'networkx.utils.decorators.argmap'> compilation 4:4: FutureWarning: laplacian_matrix will return a scipy.sparse array instead of a matrix in Networkx 3.0.\n",
      "<class 'networkx.utils.decorators.argmap'> compilation 4:4: FutureWarning: laplacian_matrix will return a scipy.sparse array instead of a matrix in Networkx 3.0.\n",
      "<class 'networkx.utils.decorators.argmap'> compilation 4:4: FutureWarning: laplacian_matrix will return a scipy.sparse array instead of a matrix in Networkx 3.0.\n",
      "<class 'networkx.utils.decorators.argmap'> compilation 4:4: FutureWarning: laplacian_matrix will return a scipy.sparse array instead of a matrix in Networkx 3.0.\n",
      "<class 'networkx.utils.decorators.argmap'> compilation 4:4: FutureWarning: laplacian_matrix will return a scipy.sparse array instead of a matrix in Networkx 3.0.\n",
      "<class 'networkx.utils.decorators.argmap'> compilation 4:4: FutureWarning: laplacian_matrix will return a scipy.sparse array instead of a matrix in Networkx 3.0.\n",
      "<class 'networkx.utils.decorators.argmap'> compilation 4:4: FutureWarning: laplacian_matrix will return a scipy.sparse array instead of a matrix in Networkx 3.0.\n"
     ]
    }
   ],
   "source": [
    "'''\n",
    "    Laplacian eigendecomposition and eigengap for each user\n",
    "'''\n",
    "for user in users:\n",
    "    users_eigenvalues_wei[user], users_eigenvectors_wei[user] = user_process_weight(user, users_features)\n",
    "    users_eigenvalues_wei[user] = sorted(users_eigenvalues_wei[user])\n",
    "    users_eigengap_wei[user] = get_eigengap(users_eigenvalues_wei[user])"
   ]
  },
  {
   "cell_type": "code",
   "execution_count": 127,
   "metadata": {},
   "outputs": [],
   "source": [
    "'''\n",
    "    See the index of First Pick of a user  - users = [\"0\", \"107\", \"348\", \"414\", \"686\", \"698\", \"1684\", \"1912\", \"3437\", \"3980\"] \n",
    "'''\n",
    "user = \"3980\"\n",
    "for i, gap in enumerate(users_eigengap_wei[user][:40]):\n",
    "    '''print(i+1, gap)'''"
   ]
  },
  {
   "cell_type": "markdown",
   "metadata": {},
   "source": [
    "##### User \"0\": Optimal num of Cluster: 15  | User \"107\": Optimal num of Cluster: 5  | User \"348\": Optimal num of Cluster: 4\n",
    "##### User \"414\": Optimal num of Cluster: 9  | User \"686\": Optimal num of Cluster: 6  | User \"698\": Optimal num of Cluster: 6\n",
    "##### User \"1684\": Optimal num of Cluster: 11  | User \"1912\": Optimal num of Cluster: 7  | User \"3437\": Optimal num of Cluster: 5\n",
    "##### User \"3980\": Optimal num of Cluster: 10"
   ]
  },
  {
   "cell_type": "code",
   "execution_count": 128,
   "metadata": {},
   "outputs": [],
   "source": [
    "users_on_cluster_wei = {\"0\": 15, \"107\": 5, \"348\": 4, \"414\": 9, \"686\": 6, \"698\": 6, \"1684\": 11, \"1912\": 7, \"3437\": 5, \"3980\": 10}"
   ]
  },
  {
   "cell_type": "code",
   "execution_count": 138,
   "metadata": {},
   "outputs": [
    {
     "name": "stdout",
     "output_type": "stream",
     "text": [
      "{'0': 0.20745902797058488, '107': 0.0020369601543860543, '348': 0.020774068254074646, '414': 0.5207682901402869, '686': 0.015341890789607465, '698': -0.013327621703610128, '1684': 0.23248408654174363, '1912': 0.016091167008400326, '3437': 0.003675875320655584, '3980': -0.08448764102686365}\n"
     ]
    }
   ],
   "source": [
    "users_score_wei = {}\n",
    "n_vectors = 40 # The first n eigenvectors\n",
    "for user in users:\n",
    "    k_means_model = cluster_nodes(user, n_vectors, users_on_cluster_wei[user], users_eigenvectors_wei)\n",
    "    \n",
    "    resulting_clusters = k_means_model.labels_\n",
    "    users_score_wei[user] = evaluate_similarity(user, resulting_clusters)\n",
    "    \n",
    "print(users_score_wei)"
   ]
  },
  {
   "cell_type": "markdown",
   "metadata": {},
   "source": [
    "##### Save score results"
   ]
  },
  {
   "cell_type": "code",
   "execution_count": 139,
   "metadata": {},
   "outputs": [],
   "source": [
    "now = datetime.now()\n",
    "# dd/mm/YY H:M:S\n",
    "dt_string = now.strftime(\"%d-%m-%Y_%H:%M:%S\")\n",
    "f = open(\"results/scores_with_weight_\"+dt_string+\".txt\", \"w\")\n",
    "f.write(str(users_score_wei))\n",
    "f.close()"
   ]
  },
  {
   "cell_type": "code",
   "execution_count": null,
   "metadata": {},
   "outputs": [],
   "source": []
  }
 ],
 "metadata": {
  "kernelspec": {
   "display_name": "Python 3 (ipykernel)",
   "language": "python",
   "name": "python3"
  },
  "language_info": {
   "codemirror_mode": {
    "name": "ipython",
    "version": 3
   },
   "file_extension": ".py",
   "mimetype": "text/x-python",
   "name": "python",
   "nbconvert_exporter": "python",
   "pygments_lexer": "ipython3",
   "version": "3.9.10"
  }
 },
 "nbformat": 4,
 "nbformat_minor": 4
}
