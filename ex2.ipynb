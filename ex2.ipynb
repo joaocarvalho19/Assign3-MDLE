{
 "cells": [
  {
   "cell_type": "code",
   "execution_count": null,
   "metadata": {},
   "outputs": [],
   "source": [
    "import math\n",
    "import random\n",
    "import gc\n",
    "import datetime"
   ]
  },
  {
   "cell_type": "markdown",
   "metadata": {},
   "source": [
    "# Ex 2.1 -> DGIM"
   ]
  },
  {
   "cell_type": "markdown",
   "metadata": {},
   "source": [
    "### Creating the DGIM class"
   ]
  },
  {
   "cell_type": "code",
   "execution_count": null,
   "metadata": {},
   "outputs": [],
   "source": [
    "class DGIM():\n",
    "    def __init__(self, N):\n",
    "        self.N = N\n",
    "        # the index is the power of the 2 corresponding to the number of ones in the buckets\n",
    "        # Ex: 0: 2^0 = 1 -> the buckets only have one 1 each.\n",
    "        self.bucket_list = {0: []}\n",
    "        # current max power of 2, indicates the biggest current bucket size\n",
    "        self.max_power = 0\n",
    "        # helper flag used to discard elements that are N bits old\n",
    "        self.flag = 0\n",
    "        self.timestamp = 0\n",
    "        \n",
    "        \n",
    "    def process_bit(self, bit):\n",
    "        \n",
    "        if self.timestamp > 0: # to ensure that we don't access a empty list\n",
    "            if self.bucket_too_old():\n",
    "                # remove the oldest bit\n",
    "                self.bucket_list[self.max_power] = self.bucket_list[self.max_power][:-1]\n",
    "                \n",
    "                # if the largest (oldest) bucket becomes empty we remove it\n",
    "                if len(self.bucket_list[self.max_power]) == 0:\n",
    "                    self.bucket_list.pop(self.max_power)\n",
    "                    self.max_power -= 1\n",
    "                    \n",
    "        if bit == 0:\n",
    "            return\n",
    "        \n",
    "        self.update()\n",
    "        self.timestamp += 1\n",
    "        self.flag = self.timestamp % self.N\n",
    "        \n",
    "        return\n",
    "    \n",
    "    \n",
    "    def update(self):\n",
    "        power = 0\n",
    "        \n",
    "        # add to the begining of the list (works as a queue)\n",
    "        self.bucket_list[0] = [[self.timestamp, self.flag]] + self.bucket_list[0]\n",
    "        \n",
    "        # when we have more than 2 buckets of the same size we \n",
    "        # need to combine them into greater power buckets\n",
    "        # using while instead of for prevents us from iterating through all of the buckets\n",
    "        while len(self.bucket_list[power]) > 2:\n",
    "            # get the 2 oldest buckets to be merged\n",
    "            bucket = self.bucket_list[power][-2:]\n",
    "            # the newest element remains in the bucket\n",
    "            self.bucket_list[power] = self.bucket_list[power][:1]\n",
    "            power += 1\n",
    "            \n",
    "            # check if the next power already has a bucket\n",
    "            if power in self.bucket_list:\n",
    "                self.bucket_list[power] = [bucket[0]] + self.bucket_list[power]\n",
    "            else:\n",
    "                self.bucket_list[power] = [bucket[0]]\n",
    "                self.max_power = power\n",
    "                \n",
    "        return\n",
    "        \n",
    "    \n",
    "    def get_count(self):\n",
    "        result = 0\n",
    "        power = 0\n",
    "        \n",
    "        for x in range(self.max_power + 1):\n",
    "            # number of buckets of size x, varies between 0 and 2\n",
    "            bucket_len = len(self.bucket_list[x])\n",
    "            if bucket_len > 0:\n",
    "                result += bucket_len * math.pow(2, power)\n",
    "            # increase the power of 2 (ex: 2^1 becomes 2^2)\n",
    "            power += 1\n",
    "        # since we only consider half of the last bucket \n",
    "        # we need to subtract half of it from the result\n",
    "        result -= math.floor((2**self.max_power)/2)\n",
    "            \n",
    "        return int(result)\n",
    "    \n",
    "    def get_in_last_k(self, k):\n",
    "        timepoint = self.timestamp - k\n",
    "        result = 0\n",
    "        power = 0\n",
    "        # auxiliary parameters to remove half of B\n",
    "        B_timestamp = math.inf\n",
    "        B_power = 0\n",
    "        \n",
    "        for k in range(self.max_power + 1):\n",
    "            for v in range(len(self.bucket_list[k])):\n",
    "                if self.bucket_list[k][v][0] > timepoint:\n",
    "                    result += math.pow(2, power)\n",
    "                    # keep track of the earliest bucket that overlaps with k\n",
    "                    if self.bucket_list[k][v][0] < B_timestamp:\n",
    "                        B_timestamp = self.bucket_list[k][v][0]\n",
    "                        B_power = power\n",
    "                        \n",
    "            power += 1\n",
    "            \n",
    "        # since we already summed all of B now we need to remove half of it\n",
    "        result -= math.floor((2**B_power)/2)      \n",
    "        \n",
    "        return int(result)\n",
    "    \n",
    "    def bucket_too_old(self):\n",
    "        # returns True or False\n",
    "        # bucket_list[self.max_power][-1] -> last element of the oldest bucket, that is, the oldest element\n",
    "        # this element is only equal to the value of the flag when N elements have gone through the algorithm\n",
    "        return (self.flag == self.bucket_list[self.max_power][-1][1])\n",
    "    \n",
    "    \n",
    "    "
   ]
  },
  {
   "cell_type": "markdown",
   "metadata": {},
   "source": [
    "### Creating a function to simulate a stream"
   ]
  },
  {
   "cell_type": "code",
   "execution_count": null,
   "metadata": {},
   "outputs": [],
   "source": [
    "def test_DGIM(N=20000, k=2000, interval=2000):\n",
    "    dgim = DGIM(N=N)\n",
    "    counter = 0\n",
    "    ones = 0\n",
    "    end = 0\n",
    "    \n",
    "    while True:\n",
    "        \n",
    "        if (counter % interval) == 0:\n",
    "            print(f'###################\\nReal count: {ones}')\n",
    "            print(f'DGIM estimate: {dgim.get_count()}')\n",
    "            print(f'In the last {k} elements: {dgim.get_in_last_k(k)} \\n')\n",
    "        \n",
    "        if counter == N:\n",
    "            ones = 0\n",
    "            counter = 0\n",
    "        \n",
    "        x = random.randint(0, 1)\n",
    "        dgim.process_bit(x)\n",
    "        \n",
    "        if x == 1:\n",
    "            ones += 1\n",
    "            \n",
    "        counter += 1   "
   ]
  },
  {
   "cell_type": "markdown",
   "metadata": {},
   "source": [
    "### Testing the algorithm"
   ]
  },
  {
   "cell_type": "code",
   "execution_count": null,
   "metadata": {},
   "outputs": [],
   "source": [
    "test_DGIM(10000, 200, 1000)"
   ]
  },
  {
   "cell_type": "markdown",
   "metadata": {},
   "source": [
    "# Ex 2.2 -> Exponential Decaying Windows"
   ]
  },
  {
   "cell_type": "code",
   "execution_count": null,
   "metadata": {},
   "outputs": [],
   "source": [
    "class EDW():\n",
    "    def __init__(self, c, threshold):\n",
    "        self.counts = {}\n",
    "        self.c = c\n",
    "        self.threshold = threshold\n",
    "        \n",
    "        \n",
    "    def process_stream(self, hashtags):\n",
    "        \n",
    "        for item in hashtags:  \n",
    "            # multiply all counts by (1 - c)  \n",
    "            self.counts = {k: v*(1-self.c) for (k,v) in self.counts.items()}\n",
    "             \n",
    "            # increment the count of x by 1\n",
    "            if item in self.counts:\n",
    "                self.counts[item] += 1\n",
    "            else:\n",
    "                self.counts[item] = 1\n",
    "        \n",
    "            self.counts = {k: v for (k, v) in self.counts.items() if v > self.threshold}\n",
    "\n",
    "\n",
    "    def print_top_10(self):\n",
    "        top_10 = sorted(self.counts.items(), key=lambda x: x[1], reverse=True)[:10]\n",
    "        print(top_10)\n",
    "              \n",
    "        "
   ]
  },
  {
   "cell_type": "code",
   "execution_count": null,
   "metadata": {},
   "outputs": [],
   "source": [
    "with open('data/mdle_twitter_data/2020.txt') as file:\n",
    "    data = file.read().splitlines()\n",
    "    data = [item.split(\" \", 1) for item in data]\n",
    "    data = [tuple((item[0], eval(item[1]))) for item in data]\n",
    "    \n",
    "with open('data/mdle_twitter_data/2021.txt') as file:\n",
    "    data2 = file.read().splitlines()\n",
    "    data2 = [item.split(\" \", 1) for item in data2]\n",
    "    data2 = [tuple((item[0], eval(item[1]))) for item in data2]\n",
    "    \n",
    "final_data = data + data2\n",
    "del data\n",
    "del data2\n",
    "gc.collect()\n"
   ]
  },
  {
   "cell_type": "code",
   "execution_count": null,
   "metadata": {},
   "outputs": [],
   "source": [
    "# Interval should be in hours\n",
    "# threshold determines how much counts we keep\n",
    "def test_EDW(c=0.001, threshold=0.5, interval=1):\n",
    "    \n",
    "    current_date = datetime.datetime.strptime(final_data[0][0], '%Y-%m-%dT%H:%M:%S.%f%z')\n",
    "    end_date = current_date + datetime.timedelta(hours=interval)\n",
    "    \n",
    "    edw = EDW(c=c, threshold=threshold)\n",
    "    \n",
    "    for x in range(len(final_data)):\n",
    "        \n",
    "        current_date = datetime.datetime.strptime(final_data[x][0], '%Y-%m-%dT%H:%M:%S.%f%z')\n",
    "        edw.process_stream(final_data[x][1])\n",
    "        \n",
    "        if current_date > end_date:\n",
    "            print(f'\\nTop 10 hashtags at {end_date}: ')\n",
    "            edw.print_top_10()\n",
    "            end_date = end_date + datetime.timedelta(hours=interval)"
   ]
  },
  {
   "cell_type": "code",
   "execution_count": null,
   "metadata": {},
   "outputs": [],
   "source": [
    "# Interval should be in hours\n",
    "test_EDW(c=0.001, threshold=0.5, interval=24)"
   ]
  }
 ],
 "metadata": {
  "interpreter": {
   "hash": "f77e6bc2d225f99816d788c5a4a60bbea5b0f9a625286da74699d4a3f8b02a8d"
  },
  "kernelspec": {
   "display_name": "Python 3 (ipykernel)",
   "language": "python",
   "name": "python3"
  },
  "language_info": {
   "codemirror_mode": {
    "name": "ipython",
    "version": 3
   },
   "file_extension": ".py",
   "mimetype": "text/x-python",
   "name": "python",
   "nbconvert_exporter": "python",
   "pygments_lexer": "ipython3",
   "version": "3.9.10"
  }
 },
 "nbformat": 4,
 "nbformat_minor": 4
}
